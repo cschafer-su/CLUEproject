{
 "cells": [
  {
   "cell_type": "code",
   "execution_count": null,
   "metadata": {},
   "outputs": [],
   "source": []
  },
  {
   "cell_type": "code",
   "execution_count": null,
   "metadata": {},
   "outputs": [],
   "source": [
    "#GAMEPLAY\n",
    "\n",
    "player = input(\"Who's turn is it? player1, player2, or player3? \")#SHOULD MATCH RENA'S CODE; WHAT IS EACH PLAYER LABELED??? \n",
    "def turn(player):\n",
    "    \n",
    "    while True:\n",
    "        ready = input(player + \": Input 'ready' once you are the only one looking at the screen so no other players can see your cards! \")\n",
    "\n",
    "        if ready == \"ready\":\n",
    "            print(\"Here are your cards: \") #MUST DISPLAY THE CARDS FOR EACH INDIVIDUAL PLAYER LATER \n",
    "            room = input(\"What room would you like to travel to? \" ) #Asks the user what room they'd like to travel to for this round \n",
    "            import random\n",
    "            for x in range(10):\n",
    "                roll = random.randint(1,6) #Creates a random number for the dice roll \n",
    "            print(\"You rolled the dice. You rolled a \" + str(roll) + \".\") #displays the number the player rolls \n",
    "            if int(roll) <= 2: #determines whether or not the user rolled high enough to reach the desired room \n",
    "                print(\"I'm sorry, you did not roll high enough to reach \" + room + \". Your turn is over!\")\n",
    "                print(\"It is now the next player's turn. \")\n",
    "                turn(player) #restarts the function for the next player \n",
    "            else:\n",
    "                choice = input(\"You reached %s! Would you like to make a suggestion or an accusation? \" %(room)) \n",
    "                if choice == \"suggestion\" or choice == \"Suggestion\":\n",
    "                    suggestion_suspect = input(\"What suspect would you like to suggest? \")\n",
    "                    suggestion_weapon = input(\"With what weapon do you believe %s committed the crime? \" %(suggestion_suspect))\n",
    "                    print(player + \" believes that \" + suggestion_suspect + \" murdered Mr. Boddy in \" + room + \" with \" + suggestion_weapon + \".\")\n",
    "                elif choice == \"accusation\" or choice == \"Accusation\": \n",
    "                    accusation_suspect = input(\"What suspect would you like to accuse? \")\n",
    "                    accusation_weapon = input(\"With what weapon do you believe %s committed the crime? \" %(accusation_suspect))\n",
    "                    print(\"%s accuses %s of murdering Mr. Boddy with %s.\" %(player, accusation_suspect, accusation_weapon))\n",
    "turn(player)\n",
    "\n",
    "\n",
    "\n",
    "\n"
   ]
  }
 ],
 "metadata": {
  "kernelspec": {
   "display_name": "Python 3",
   "language": "python",
   "name": "python3"
  },
  "language_info": {
   "codemirror_mode": {
    "name": "ipython",
    "version": 3
   },
   "file_extension": ".py",
   "mimetype": "text/x-python",
   "name": "python",
   "nbconvert_exporter": "python",
   "pygments_lexer": "ipython3",
   "version": "3.6.6"
  }
 },
 "nbformat": 4,
 "nbformat_minor": 2
}
