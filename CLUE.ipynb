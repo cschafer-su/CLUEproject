{
 "cells": [
  {
   "cell_type": "code",
   "execution_count": null,
   "metadata": {},
   "outputs": [],
   "source": [
    "print('CLUE') \n",
    "def player3prompt(player1, player2): \n",
    "    player3 =input('Player 3 enter the name of the character you want:') \n",
    "    player3 = player3.strip() \n",
    "    player3 = player3.lower()\n",
    "    listofcharacters = ['carson' , 'yang' , 'kerry' , 'miles' , 'arthur', 'az']\n",
    "    if player3 in listofcharacters and player3 != player1 and player3 != player2: \n",
    "        print('List of inputs completed') \n",
    "    if player3 not in listofcharacters: \n",
    "        print(\"Please enter a name from the character's list.\") \n",
    "        player3prompt(player1, player2) \n",
    "    if player3 == player1 or player3 == player2:\n",
    "        print(\"Please enter a name that hasn't already been taken\") \n",
    "        player3prompt(player1, player2)\n",
    "def player2prompt(player1):\n",
    "    player2 =input('Player 2 enter the name of the character you want:') \n",
    "    player2 = player2.strip()\n",
    "    player2 = player2.lower()\n",
    "    listofcharacters = ['carson' , 'yang' , 'kerry' , 'miles' , 'arthur', 'az']\n",
    "    if player2 in listofcharacters and player2 != player1: \n",
    "        player3prompt(player1, player2)\n",
    "    if player2 not in listofcharacters: \n",
    "        print(\"Please enter a name from the character's list.\") \n",
    "        player2prompt(player1) \n",
    "    if player2 == player1: \n",
    "        print(\"Please enter a name that hasn't been taken.\")\n",
    "        player2prompt(player1)\n",
    "def player1prompt(): \n",
    "    player1 = input('Enter the name of the person you want to play as: ') \n",
    "    player1 = player1.strip() \n",
    "    player1 = player1.lower()\n",
    "    listofcharacters = ['carson' , 'yang' , 'kerry' , 'miles' , 'arthur', 'az']\n",
    "    if player1 in listofcharacters: \n",
    "        player2prompt(player1)\n",
    "    if player1 not in listofcharacters: \n",
    "        print(\"Please enter a name from the character's list.\") \n",
    "        player1prompt() \n",
    "\n",
    "player1prompt()\n"
   ]
  }
 ],
 "metadata": {
  "kernelspec": {
   "display_name": "Python 3",
   "language": "python",
   "name": "python3"
  },
  "language_info": {
   "codemirror_mode": {
    "name": "ipython",
    "version": 3
   },
   "file_extension": ".py",
   "mimetype": "text/x-python",
   "name": "python",
   "nbconvert_exporter": "python",
   "pygments_lexer": "ipython3",
   "version": "3.6.6"
  }
 },
 "nbformat": 4,
 "nbformat_minor": 2
}
