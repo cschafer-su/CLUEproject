{
 "cells": [
  {
   "cell_type": "code",
   "execution_count": null,
   "metadata": {},
   "outputs": [
    {
     "name": "stdout",
     "output_type": "stream",
     "text": [
      "CLUE\n",
      "Enter the name of the person you want to play as: C A R S O N\n",
      "Player 2 enter the name of the character you want:A Z \n",
      "Player 3 enter the name of the character you want:AZ\n",
      "Please enter a name that hasn't already been taken\n"
     ]
    }
   ],
   "source": [
    "print('CLUE') \n",
    "def player3prompt(player1, player2): \n",
    "    player3 =input('Player 3 enter the name of the character you want:') \n",
    "    player3 = player3.replace(\" \", \"\") \n",
    "    player3 = player3.lower()\n",
    "    listofcharacters = ['carson' , 'yang' , 'kerry' , 'miles' , 'arthur', 'az']\n",
    "    if player3 in listofcharacters and player3 != player1 and player3 != player2: \n",
    "        print('List of inputs completed') \n",
    "    if player3 not in listofcharacters: \n",
    "        print(\"Please enter a name from the character's list.\") \n",
    "        player3prompt(player1, player2) \n",
    "    if player3 == player1 or player3 == player2:\n",
    "        print(\"Please enter a name that hasn't already been taken\") \n",
    "        player3prompt(player1, player2)\n",
    "def player2prompt(player1):\n",
    "    player2 =input('Player 2 enter the name of the character you want:') \n",
    "    player2 = player2.replace(\" \", \"\")\n",
    "    player2 = player2.lower()\n",
    "    listofcharacters = ['carson' , 'yang' , 'kerry' , 'miles' , 'arthur', 'az']\n",
    "    if player2 in listofcharacters and player2 != player1: \n",
    "        player3prompt(player1, player2)\n",
    "    if player2 not in listofcharacters: \n",
    "        print(\"Please enter a name from the character's list.\") \n",
    "        player2prompt(player1) \n",
    "    if player2 == player1: \n",
    "        print(\"Please enter a name that hasn't been taken.\")\n",
    "        player2prompt(player1)\n",
    "def player1prompt(): \n",
    "    player1 = input('Enter the name of the person you want to play as: ') \n",
    "    player1 = player1.replace(\" \", \"\") \n",
    "    player1 = player1.lower()\n",
    "    listofcharacters = ['carson' , 'yang' , 'kerry' , 'miles' , 'arthur', 'az']\n",
    "    if player1 in listofcharacters: \n",
    "        player2prompt(player1)\n",
    "    if player1 not in listofcharacters: \n",
    "        print(\"Please enter a name from the character's list.\") \n",
    "        player1prompt() \n",
    "\n",
    "player1prompt()\n"
   ]
  },
  {
   "cell_type": "code",
   "execution_count": null,
   "metadata": {},
   "outputs": [],
   "source": [
    "#GAMEPLAY\n",
    "\n",
    "player = input(\"Who's turn is it? player1, player2, or player3? \")#SHOULD MATCH RENA'S CODE; WHAT IS EACH PLAYER LABELED??? \n",
    "def turn(player):\n",
    "    \n",
    "    while True:\n",
    "        ready = input(player + \": Input 'ready' once you are the only one looking at the screen so no other players can see your cards! \")\n",
    "\n",
    "        if ready == \"ready\":\n",
    "            print(\"Here are your cards: \") #MUST DISPLAY THE CARDS FOR EACH INDIVIDUAL PLAYER LATER \n",
    "            room = input(\"What room would you like to travel to? \" ) #Asks the user what room they'd like to travel to for this round \n",
    "            import random\n",
    "            for x in range(10):\n",
    "                roll = random.randint(1,6) #Creates a random number for the dice roll \n",
    "            print(\"You rolled the dice. You rolled a \" + str(roll) + \".\") #displays the number the player rolls \n",
    "            if int(roll) <= 2: #determines whether or not the user rolled high enough to reach the desired room \n",
    "                print(\"I'm sorry, you did not roll high enough to reach \" + room + \". Your turn is over!\")\n",
    "                print(\"It is now the next player's turn. \")\n",
    "                turn(player) #restarts the function for the next player \n",
    "            else:\n",
    "                choice = input(\"You reached %s! Would you like to make a suggestion or an accusation? \" %(room)) \n",
    "                if choice == \"suggestion\" or choice == \"Suggestion\":\n",
    "                    suggestion_suspect = input(\"What suspect would you like to suggest? \")\n",
    "                    suggestion_weapon = input(\"With what weapon do you believe %s committed the crime? \" %(suggestion_suspect))\n",
    "                    print(player + \" believes that \" + suggestion_suspect + \" murdered Mr. Boddy in \" + room + \" with \" + suggestion_weapon + \".\")\n",
    "                elif choice == \"accusation\" or choice == \"Accusation\": \n",
    "                    accusation_suspect = input(\"What suspect would you like to accuse? \")\n",
    "                    accusation_weapon = input(\"With what weapon do you believe %s committed the crime? \" %(accusation_suspect))\n",
    "                    print(\"%s accuses %s of murdering Mr. Boddy with %s.\" %(player, accusation_suspect, accusation_weapon))\n",
    "turn(player)\n",
    "\n",
    "\n",
    "\n",
    "\n"
   ]
  },
  {
   "cell_type": "code",
   "execution_count": 3,
   "metadata": {
    "scrolled": true
   },
   "outputs": [
    {
     "name": "stdout",
     "output_type": "stream",
     "text": [
      "['carson', 'yang', 'az', 'miles', 'kerry']\n",
      "['knife', 'candlestick', 'rope', 'wrench', 'revolver']\n",
      "['kimmel', 'haven', 'maker space', 'library', 'ischool']\n",
      "['arthur', 'lead pipe', 'ernie davis']\n"
     ]
    }
   ],
   "source": [
    "import random\n",
    "listofpeople = ['carson' , 'yang' , 'az' , 'miles' , 'arthur' , 'kerry'] \n",
    "listofweapons = ['knife' , 'lead pipe' , 'candlestick' , 'rope' , 'wrench' , 'revolver'] \n",
    "listofplaces = ['ernie davis' , 'kimmel' , 'haven' , 'maker space' , 'library' , 'ischool'] \n",
    "confidentialperson = random.choice(listofpeople)\n",
    "confidentialweapon = random.choice(listofweapons)\n",
    "confidentialplace = random.choice(listofplaces)\n",
    "confidential = [confidentialperson ,confidentialweapon , confidentialplace]                               \n",
    "listofpeople.remove(confidentialperson) \n",
    "listofweapons.remove(confidentialweapon) \n",
    "listofplaces.remove(confidentialplace) \n",
    "print (listofpeople)\n",
    "print(listofweapons) \n",
    "print(listofplaces) \n",
    "print(confidential)"
   ]
  },
  {
   "cell_type": "code",
   "execution_count": null,
   "metadata": {},
   "outputs": [],
   "source": []
  }
 ],
 "metadata": {
  "kernelspec": {
   "display_name": "Python 3",
   "language": "python",
   "name": "python3"
  },
  "language_info": {
   "codemirror_mode": {
    "name": "ipython",
    "version": 3
   },
   "file_extension": ".py",
   "mimetype": "text/x-python",
   "name": "python",
   "nbconvert_exporter": "python",
   "pygments_lexer": "ipython3",
   "version": "3.6.6"
  }
 },
 "nbformat": 4,
 "nbformat_minor": 2
}
